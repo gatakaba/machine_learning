{
 "cells": [
  {
   "cell_type": "markdown",
   "metadata": {
    "collapsed": true
   },
   "source": [
    "# 確率的生成モデル\n",
    "\n",
    "確率的生成モデルとはクラスの条件付き確率 $p(\\mathbf{x}|C_{k})$とクラスの事前確率 $p(C_{k})$ をモデル化するアプローチである。\n",
    "\n",
    "\n",
    "\n",
    "クラスの事前確率を求めることによって、低い確率をとる新しいデータ点を見つけるのに役に立つ。これを外れ値検出、新規性検出と呼ぶ。\n",
    "\n",
    "パラメータはデータ集合とパラメータの同時確率を最大化するように学習する。"
   ]
  },
  {
   "cell_type": "markdown",
   "metadata": {},
   "source": [
    "## クラスの事後確率\n",
    "\n",
    "$p(C_{1}|\\mathbf{x}) = \\sigma(\\mathbf{w}^{T} \\mathbf{x}+w_{0})$\n",
    "\n",
    "ただし\n",
    "\n",
    "$\\mathbf{w} =\\Sigma^{-1} (\\mathbf{\\mu}_{1}-\\mathbf{\\mu}_{2})$\n",
    "\n",
    "$w_{0} =-\\frac{1}{2} \\mathbf{\\mu}_{1} \\Sigma^{-1} \\mathbf{\\mu}_{1} +\\frac{1}{2} \\mathbf{\\mu}_{2} \\Sigma^{-1} \\mathbf{\\mu}_{2} + \\ln \\frac{p(C_{1})}{p(C_{2})}$\n"
   ]
  },
  {
   "cell_type": "markdown",
   "metadata": {},
   "source": [
    "## パラメータの最尤推定\n",
    "\n",
    "$p(x_n,C_{1}) = p(C_{1})p(x_{n}|C_{1}) = \\pi N(x_{n}|\\mu_{1},\\Sigma)$\n",
    "\n",
    "$p(x_n,C_{2}) = p(C_{2})p(x_{n}|C_{2}) = (1-\\pi) N(x_{n}|\\mu_{2},\\Sigma)$\n",
    "\n",
    "とおく。\n",
    "\n",
    "この時、尤度関数を最小化するパラメータを求める\n",
    "\n",
    "$\\pi=\\frac{N_{1}}{N_{1}+N_{2}}$\n",
    "\n",
    "$\\mathbf{\\mu}_{1} = \\frac{1}{N}_{1} \\sum_{n}^{N} t_{n} \\mathbf{x}_{n} $\n",
    "\n",
    "$\\mathbf{\\mu}_{2} = \\frac{1}{N}_{2} \\sum_{n}^{N} (1-t_{n}) \\mathbf{x}_{n} $\n",
    "\n",
    "$S = \\frac{N_{1}}{N} S_{1} + \\frac{N_{2}}{N} S_{2}$\n",
    "\n",
    "$S_{1} = \\frac{1}{N}_{1} \\sum_{n \\in C_{1}} (x_{n}-\\mu_{1})^{T}(x_{n}-\\mu_{1})$\n",
    "\n",
    "$S_{2} = \\frac{1}{N}_{2} \\sum_{n \\in C_{2}} (x_{n}-\\mu_{2})^{T}(x_{n}-\\mu_{2})$"
   ]
  },
  {
   "cell_type": "code",
   "execution_count": null,
   "metadata": {
    "collapsed": true
   },
   "outputs": [],
   "source": []
  }
 ],
 "metadata": {
  "kernelspec": {
   "display_name": "Python 3",
   "language": "python",
   "name": "python3"
  },
  "language_info": {
   "codemirror_mode": {
    "name": "ipython",
    "version": 3
   },
   "file_extension": ".py",
   "mimetype": "text/x-python",
   "name": "python",
   "nbconvert_exporter": "python",
   "pygments_lexer": "ipython3",
   "version": "3.5.3"
  }
 },
 "nbformat": 4,
 "nbformat_minor": 1
}
